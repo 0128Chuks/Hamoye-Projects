{
 "cells": [
  {
   "cell_type": "markdown",
   "id": "f268dfa3",
   "metadata": {},
   "source": [
    "# Introduction to Python and Machine Learning \n",
    "## By Chukwuma Anthony Nwachukwu\n",
    "## anthonynwachukwu19@gmail.com"
   ]
  },
  {
   "cell_type": "code",
   "execution_count": 64,
   "id": "ff0fd58d",
   "metadata": {},
   "outputs": [],
   "source": [
    "#importing libraries\n",
    "import pandas as pd\n",
    "import numpy as np"
   ]
  },
  {
   "cell_type": "code",
   "execution_count": null,
   "id": "ebbc5818",
   "metadata": {},
   "outputs": [],
   "source": [
    "#importing dataset\n",
    "data=pd.read_csv('C:\\Users\\TonyC\\Desktop\\Intern Projects\\Introduction to Python for Machine learning')"
   ]
  },
  {
   "cell_type": "code",
   "execution_count": 26,
   "id": "a4686662",
   "metadata": {
    "scrolled": true
   },
   "outputs": [
    {
     "data": {
      "text/html": [
       "<div>\n",
       "<style scoped>\n",
       "    .dataframe tbody tr th:only-of-type {\n",
       "        vertical-align: middle;\n",
       "    }\n",
       "\n",
       "    .dataframe tbody tr th {\n",
       "        vertical-align: top;\n",
       "    }\n",
       "\n",
       "    .dataframe thead th {\n",
       "        text-align: right;\n",
       "    }\n",
       "</style>\n",
       "<table border=\"1\" class=\"dataframe\">\n",
       "  <thead>\n",
       "    <tr style=\"text-align: right;\">\n",
       "      <th></th>\n",
       "      <th>record_id</th>\n",
       "      <th>utility_id_ferc1</th>\n",
       "      <th>report_year</th>\n",
       "      <th>plant_name_ferc1</th>\n",
       "      <th>fuel_type_code_pudl</th>\n",
       "      <th>fuel_unit</th>\n",
       "      <th>fuel_qty_burned</th>\n",
       "      <th>fuel_mmbtu_per_unit</th>\n",
       "      <th>fuel_cost_per_unit_burned</th>\n",
       "      <th>fuel_cost_per_unit_delivered</th>\n",
       "      <th>fuel_cost_per_mmbtu</th>\n",
       "    </tr>\n",
       "  </thead>\n",
       "  <tbody>\n",
       "    <tr>\n",
       "      <th>0</th>\n",
       "      <td>f1_fuel_1994_12_1_0_7</td>\n",
       "      <td>1</td>\n",
       "      <td>1994</td>\n",
       "      <td>rockport</td>\n",
       "      <td>coal</td>\n",
       "      <td>ton</td>\n",
       "      <td>5377489.0</td>\n",
       "      <td>16.590</td>\n",
       "      <td>18.59</td>\n",
       "      <td>18.53</td>\n",
       "      <td>1.121</td>\n",
       "    </tr>\n",
       "    <tr>\n",
       "      <th>1</th>\n",
       "      <td>f1_fuel_1994_12_1_0_10</td>\n",
       "      <td>1</td>\n",
       "      <td>1994</td>\n",
       "      <td>rockport total plant</td>\n",
       "      <td>coal</td>\n",
       "      <td>ton</td>\n",
       "      <td>10486945.0</td>\n",
       "      <td>16.592</td>\n",
       "      <td>18.58</td>\n",
       "      <td>18.53</td>\n",
       "      <td>1.120</td>\n",
       "    </tr>\n",
       "    <tr>\n",
       "      <th>2</th>\n",
       "      <td>f1_fuel_1994_12_2_0_1</td>\n",
       "      <td>2</td>\n",
       "      <td>1994</td>\n",
       "      <td>gorgas</td>\n",
       "      <td>coal</td>\n",
       "      <td>ton</td>\n",
       "      <td>2978683.0</td>\n",
       "      <td>24.130</td>\n",
       "      <td>39.72</td>\n",
       "      <td>38.12</td>\n",
       "      <td>1.650</td>\n",
       "    </tr>\n",
       "    <tr>\n",
       "      <th>3</th>\n",
       "      <td>f1_fuel_1994_12_2_0_7</td>\n",
       "      <td>2</td>\n",
       "      <td>1994</td>\n",
       "      <td>barry</td>\n",
       "      <td>coal</td>\n",
       "      <td>ton</td>\n",
       "      <td>3739484.0</td>\n",
       "      <td>23.950</td>\n",
       "      <td>47.21</td>\n",
       "      <td>45.99</td>\n",
       "      <td>1.970</td>\n",
       "    </tr>\n",
       "    <tr>\n",
       "      <th>4</th>\n",
       "      <td>f1_fuel_1994_12_2_0_10</td>\n",
       "      <td>2</td>\n",
       "      <td>1994</td>\n",
       "      <td>chickasaw</td>\n",
       "      <td>gas</td>\n",
       "      <td>mcf</td>\n",
       "      <td>40533.0</td>\n",
       "      <td>1.000</td>\n",
       "      <td>2.77</td>\n",
       "      <td>2.77</td>\n",
       "      <td>2.570</td>\n",
       "    </tr>\n",
       "  </tbody>\n",
       "</table>\n",
       "</div>"
      ],
      "text/plain": [
       "                record_id  utility_id_ferc1  report_year  \\\n",
       "0   f1_fuel_1994_12_1_0_7                 1         1994   \n",
       "1  f1_fuel_1994_12_1_0_10                 1         1994   \n",
       "2   f1_fuel_1994_12_2_0_1                 2         1994   \n",
       "3   f1_fuel_1994_12_2_0_7                 2         1994   \n",
       "4  f1_fuel_1994_12_2_0_10                 2         1994   \n",
       "\n",
       "       plant_name_ferc1 fuel_type_code_pudl fuel_unit  fuel_qty_burned  \\\n",
       "0              rockport                coal       ton        5377489.0   \n",
       "1  rockport total plant                coal       ton       10486945.0   \n",
       "2                gorgas                coal       ton        2978683.0   \n",
       "3                 barry                coal       ton        3739484.0   \n",
       "4             chickasaw                 gas       mcf          40533.0   \n",
       "\n",
       "   fuel_mmbtu_per_unit  fuel_cost_per_unit_burned  \\\n",
       "0               16.590                      18.59   \n",
       "1               16.592                      18.58   \n",
       "2               24.130                      39.72   \n",
       "3               23.950                      47.21   \n",
       "4                1.000                       2.77   \n",
       "\n",
       "   fuel_cost_per_unit_delivered  fuel_cost_per_mmbtu  \n",
       "0                         18.53                1.121  \n",
       "1                         18.53                1.120  \n",
       "2                         38.12                1.650  \n",
       "3                         45.99                1.970  \n",
       "4                          2.77                2.570  "
      ]
     },
     "execution_count": 26,
     "metadata": {},
     "output_type": "execute_result"
    }
   ],
   "source": [
    "data.head()"
   ]
  },
  {
   "cell_type": "code",
   "execution_count": 10,
   "id": "1ef6416c",
   "metadata": {
    "scrolled": true
   },
   "outputs": [
    {
     "data": {
      "text/html": [
       "<div>\n",
       "<style scoped>\n",
       "    .dataframe tbody tr th:only-of-type {\n",
       "        vertical-align: middle;\n",
       "    }\n",
       "\n",
       "    .dataframe tbody tr th {\n",
       "        vertical-align: top;\n",
       "    }\n",
       "\n",
       "    .dataframe thead th {\n",
       "        text-align: right;\n",
       "    }\n",
       "</style>\n",
       "<table border=\"1\" class=\"dataframe\">\n",
       "  <thead>\n",
       "    <tr style=\"text-align: right;\">\n",
       "      <th></th>\n",
       "      <th>record_id</th>\n",
       "      <th>utility_id_ferc1</th>\n",
       "      <th>report_year</th>\n",
       "      <th>plant_name_ferc1</th>\n",
       "      <th>fuel_type_code_pudl</th>\n",
       "      <th>fuel_unit</th>\n",
       "      <th>fuel_qty_burned</th>\n",
       "      <th>fuel_mmbtu_per_unit</th>\n",
       "      <th>fuel_cost_per_unit_burned</th>\n",
       "      <th>fuel_cost_per_unit_delivered</th>\n",
       "      <th>fuel_cost_per_mmbtu</th>\n",
       "    </tr>\n",
       "  </thead>\n",
       "  <tbody>\n",
       "    <tr>\n",
       "      <th>29518</th>\n",
       "      <td>f1_fuel_2018_12_12_0_13</td>\n",
       "      <td>12</td>\n",
       "      <td>2018</td>\n",
       "      <td>neil simpson ct #1</td>\n",
       "      <td>gas</td>\n",
       "      <td>mcf</td>\n",
       "      <td>18799.0</td>\n",
       "      <td>1.059</td>\n",
       "      <td>4.78</td>\n",
       "      <td>4.78</td>\n",
       "      <td>9.03</td>\n",
       "    </tr>\n",
       "    <tr>\n",
       "      <th>29519</th>\n",
       "      <td>f1_fuel_2018_12_12_1_1</td>\n",
       "      <td>12</td>\n",
       "      <td>2018</td>\n",
       "      <td>cheyenne prairie 58%</td>\n",
       "      <td>gas</td>\n",
       "      <td>mcf</td>\n",
       "      <td>806730.0</td>\n",
       "      <td>1.050</td>\n",
       "      <td>3.65</td>\n",
       "      <td>3.65</td>\n",
       "      <td>6.95</td>\n",
       "    </tr>\n",
       "    <tr>\n",
       "      <th>29520</th>\n",
       "      <td>f1_fuel_2018_12_12_1_10</td>\n",
       "      <td>12</td>\n",
       "      <td>2018</td>\n",
       "      <td>lange ct facility</td>\n",
       "      <td>gas</td>\n",
       "      <td>mcf</td>\n",
       "      <td>104554.0</td>\n",
       "      <td>1.060</td>\n",
       "      <td>4.77</td>\n",
       "      <td>4.77</td>\n",
       "      <td>8.99</td>\n",
       "    </tr>\n",
       "    <tr>\n",
       "      <th>29521</th>\n",
       "      <td>f1_fuel_2018_12_12_1_13</td>\n",
       "      <td>12</td>\n",
       "      <td>2018</td>\n",
       "      <td>wygen 3 bhp 52%</td>\n",
       "      <td>coal</td>\n",
       "      <td>ton</td>\n",
       "      <td>315945.0</td>\n",
       "      <td>16.108</td>\n",
       "      <td>3.06</td>\n",
       "      <td>14.76</td>\n",
       "      <td>1.11</td>\n",
       "    </tr>\n",
       "    <tr>\n",
       "      <th>29522</th>\n",
       "      <td>f1_fuel_2018_12_12_1_14</td>\n",
       "      <td>12</td>\n",
       "      <td>2018</td>\n",
       "      <td>wygen 3 bhp 52%</td>\n",
       "      <td>gas</td>\n",
       "      <td>mcf</td>\n",
       "      <td>17853.0</td>\n",
       "      <td>1.059</td>\n",
       "      <td>0.00</td>\n",
       "      <td>0.00</td>\n",
       "      <td>11.68</td>\n",
       "    </tr>\n",
       "  </tbody>\n",
       "</table>\n",
       "</div>"
      ],
      "text/plain": [
       "                     record_id  utility_id_ferc1  report_year  \\\n",
       "29518  f1_fuel_2018_12_12_0_13                12         2018   \n",
       "29519   f1_fuel_2018_12_12_1_1                12         2018   \n",
       "29520  f1_fuel_2018_12_12_1_10                12         2018   \n",
       "29521  f1_fuel_2018_12_12_1_13                12         2018   \n",
       "29522  f1_fuel_2018_12_12_1_14                12         2018   \n",
       "\n",
       "           plant_name_ferc1 fuel_type_code_pudl fuel_unit  fuel_qty_burned  \\\n",
       "29518    neil simpson ct #1                 gas       mcf          18799.0   \n",
       "29519  cheyenne prairie 58%                 gas       mcf         806730.0   \n",
       "29520     lange ct facility                 gas       mcf         104554.0   \n",
       "29521       wygen 3 bhp 52%                coal       ton         315945.0   \n",
       "29522       wygen 3 bhp 52%                 gas       mcf          17853.0   \n",
       "\n",
       "       fuel_mmbtu_per_unit  fuel_cost_per_unit_burned  \\\n",
       "29518                1.059                       4.78   \n",
       "29519                1.050                       3.65   \n",
       "29520                1.060                       4.77   \n",
       "29521               16.108                       3.06   \n",
       "29522                1.059                       0.00   \n",
       "\n",
       "       fuel_cost_per_unit_delivered  fuel_cost_per_mmbtu  \n",
       "29518                          4.78                 9.03  \n",
       "29519                          3.65                 6.95  \n",
       "29520                          4.77                 8.99  \n",
       "29521                         14.76                 1.11  \n",
       "29522                          0.00                11.68  "
      ]
     },
     "execution_count": 10,
     "metadata": {},
     "output_type": "execute_result"
    }
   ],
   "source": [
    "data.tail()"
   ]
  },
  {
   "cell_type": "code",
   "execution_count": 40,
   "id": "6c732b36",
   "metadata": {
    "scrolled": false
   },
   "outputs": [
    {
     "name": "stdout",
     "output_type": "stream",
     "text": [
      "<class 'pandas.core.frame.DataFrame'>\n",
      "RangeIndex: 29523 entries, 0 to 29522\n",
      "Data columns (total 11 columns):\n",
      " #   Column                        Non-Null Count  Dtype  \n",
      "---  ------                        --------------  -----  \n",
      " 0   record_id                     29523 non-null  object \n",
      " 1   utility_id_ferc1              29523 non-null  int64  \n",
      " 2   report_year                   29523 non-null  int64  \n",
      " 3   plant_name_ferc1              29523 non-null  object \n",
      " 4   fuel_type_code_pudl           29523 non-null  object \n",
      " 5   fuel_unit                     29343 non-null  object \n",
      " 6   fuel_qty_burned               29523 non-null  float64\n",
      " 7   fuel_mmbtu_per_unit           29523 non-null  float64\n",
      " 8   fuel_cost_per_unit_burned     29523 non-null  float64\n",
      " 9   fuel_cost_per_unit_delivered  29523 non-null  float64\n",
      " 10  fuel_cost_per_mmbtu           29523 non-null  float64\n",
      "dtypes: float64(5), int64(2), object(4)\n",
      "memory usage: 2.5+ MB\n"
     ]
    }
   ],
   "source": [
    "data.info()"
   ]
  },
  {
   "cell_type": "markdown",
   "id": "84f90575",
   "metadata": {},
   "source": [
    "__Q4__"
   ]
  },
  {
   "cell_type": "code",
   "execution_count": 14,
   "id": "1316eaac",
   "metadata": {},
   "outputs": [
    {
     "data": {
      "text/html": [
       "<div>\n",
       "<style scoped>\n",
       "    .dataframe tbody tr th:only-of-type {\n",
       "        vertical-align: middle;\n",
       "    }\n",
       "\n",
       "    .dataframe tbody tr th {\n",
       "        vertical-align: top;\n",
       "    }\n",
       "\n",
       "    .dataframe thead th {\n",
       "        text-align: right;\n",
       "    }\n",
       "</style>\n",
       "<table border=\"1\" class=\"dataframe\">\n",
       "  <thead>\n",
       "    <tr style=\"text-align: right;\">\n",
       "      <th></th>\n",
       "      <th>utility_id_ferc1</th>\n",
       "      <th>report_year</th>\n",
       "      <th>fuel_qty_burned</th>\n",
       "      <th>fuel_mmbtu_per_unit</th>\n",
       "      <th>fuel_cost_per_unit_burned</th>\n",
       "      <th>fuel_cost_per_unit_delivered</th>\n",
       "      <th>fuel_cost_per_mmbtu</th>\n",
       "    </tr>\n",
       "  </thead>\n",
       "  <tbody>\n",
       "    <tr>\n",
       "      <th>count</th>\n",
       "      <td>29523.00</td>\n",
       "      <td>29523.00</td>\n",
       "      <td>2.952300e+04</td>\n",
       "      <td>29523.00</td>\n",
       "      <td>29523.00</td>\n",
       "      <td>29523.00</td>\n",
       "      <td>29523.00</td>\n",
       "    </tr>\n",
       "    <tr>\n",
       "      <th>mean</th>\n",
       "      <td>118.60</td>\n",
       "      <td>2005.81</td>\n",
       "      <td>2.622119e+06</td>\n",
       "      <td>8.49</td>\n",
       "      <td>208.65</td>\n",
       "      <td>917.57</td>\n",
       "      <td>19.30</td>\n",
       "    </tr>\n",
       "    <tr>\n",
       "      <th>std</th>\n",
       "      <td>74.18</td>\n",
       "      <td>7.03</td>\n",
       "      <td>9.118004e+06</td>\n",
       "      <td>10.60</td>\n",
       "      <td>2854.49</td>\n",
       "      <td>68775.93</td>\n",
       "      <td>2091.54</td>\n",
       "    </tr>\n",
       "    <tr>\n",
       "      <th>min</th>\n",
       "      <td>1.00</td>\n",
       "      <td>1994.00</td>\n",
       "      <td>1.000000e+00</td>\n",
       "      <td>0.00</td>\n",
       "      <td>-276.08</td>\n",
       "      <td>-874.94</td>\n",
       "      <td>-41.50</td>\n",
       "    </tr>\n",
       "    <tr>\n",
       "      <th>25%</th>\n",
       "      <td>55.00</td>\n",
       "      <td>2000.00</td>\n",
       "      <td>1.381700e+04</td>\n",
       "      <td>1.02</td>\n",
       "      <td>5.21</td>\n",
       "      <td>3.78</td>\n",
       "      <td>1.94</td>\n",
       "    </tr>\n",
       "    <tr>\n",
       "      <th>50%</th>\n",
       "      <td>122.00</td>\n",
       "      <td>2006.00</td>\n",
       "      <td>2.533220e+05</td>\n",
       "      <td>5.76</td>\n",
       "      <td>26.00</td>\n",
       "      <td>17.37</td>\n",
       "      <td>4.13</td>\n",
       "    </tr>\n",
       "    <tr>\n",
       "      <th>75%</th>\n",
       "      <td>176.00</td>\n",
       "      <td>2012.00</td>\n",
       "      <td>1.424034e+06</td>\n",
       "      <td>17.01</td>\n",
       "      <td>47.11</td>\n",
       "      <td>42.14</td>\n",
       "      <td>7.74</td>\n",
       "    </tr>\n",
       "    <tr>\n",
       "      <th>max</th>\n",
       "      <td>514.00</td>\n",
       "      <td>2018.00</td>\n",
       "      <td>5.558942e+08</td>\n",
       "      <td>341.26</td>\n",
       "      <td>139358.00</td>\n",
       "      <td>7964521.00</td>\n",
       "      <td>359278.00</td>\n",
       "    </tr>\n",
       "  </tbody>\n",
       "</table>\n",
       "</div>"
      ],
      "text/plain": [
       "       utility_id_ferc1  report_year  fuel_qty_burned  fuel_mmbtu_per_unit  \\\n",
       "count          29523.00     29523.00     2.952300e+04             29523.00   \n",
       "mean             118.60      2005.81     2.622119e+06                 8.49   \n",
       "std               74.18         7.03     9.118004e+06                10.60   \n",
       "min                1.00      1994.00     1.000000e+00                 0.00   \n",
       "25%               55.00      2000.00     1.381700e+04                 1.02   \n",
       "50%              122.00      2006.00     2.533220e+05                 5.76   \n",
       "75%              176.00      2012.00     1.424034e+06                17.01   \n",
       "max              514.00      2018.00     5.558942e+08               341.26   \n",
       "\n",
       "       fuel_cost_per_unit_burned  fuel_cost_per_unit_delivered  \\\n",
       "count                   29523.00                      29523.00   \n",
       "mean                      208.65                        917.57   \n",
       "std                      2854.49                      68775.93   \n",
       "min                      -276.08                       -874.94   \n",
       "25%                         5.21                          3.78   \n",
       "50%                        26.00                         17.37   \n",
       "75%                        47.11                         42.14   \n",
       "max                    139358.00                    7964521.00   \n",
       "\n",
       "       fuel_cost_per_mmbtu  \n",
       "count             29523.00  \n",
       "mean                 19.30  \n",
       "std                2091.54  \n",
       "min                 -41.50  \n",
       "25%                   1.94  \n",
       "50%                   4.13  \n",
       "75%                   7.74  \n",
       "max              359278.00  "
      ]
     },
     "execution_count": 14,
     "metadata": {},
     "output_type": "execute_result"
    }
   ],
   "source": [
    "# Calculates mean,count,std,min,max,25,50,75 percentile.\n",
    "round(data.describe(),2)"
   ]
  },
  {
   "cell_type": "markdown",
   "id": "7379f972",
   "metadata": {},
   "source": [
    "__Standard deviation and 75th percentile for Fuel_mmbtu_per_unit is 10.60 and 17.01 respectively. __"
   ]
  },
  {
   "cell_type": "code",
   "execution_count": 28,
   "id": "401f340b",
   "metadata": {},
   "outputs": [
    {
     "data": {
      "text/plain": [
       "record_id                         0\n",
       "utility_id_ferc1                  0\n",
       "report_year                       0\n",
       "plant_name_ferc1                  0\n",
       "fuel_type_code_pudl               0\n",
       "fuel_unit                       180\n",
       "fuel_qty_burned                   0\n",
       "fuel_mmbtu_per_unit               0\n",
       "fuel_cost_per_unit_burned         0\n",
       "fuel_cost_per_unit_delivered      0\n",
       "fuel_cost_per_mmbtu               0\n",
       "dtype: int64"
      ]
     },
     "execution_count": 28,
     "metadata": {},
     "output_type": "execute_result"
    }
   ],
   "source": [
    "# checks the number of missing values from the dataset\n",
    "data.isnull().sum()"
   ]
  },
  {
   "cell_type": "markdown",
   "id": "1625d034",
   "metadata": {},
   "source": [
    "__Q6.__"
   ]
  },
  {
   "cell_type": "code",
   "execution_count": 31,
   "id": "24f26a00",
   "metadata": {},
   "outputs": [
    {
     "name": "stdout",
     "output_type": "stream",
     "text": [
      "Feature: ['fuel_unit'] , Total: 180 , Percent: 0.61\n"
     ]
    }
   ],
   "source": [
    "#Column with missing values\n",
    "Column=data.columns[data.isnull().any()].tolist() \n",
    "\n",
    "# Total number of missing values\n",
    "total=data.isnull().sum().sum() \n",
    "\n",
    "#percent of missing row/total number of rows in 3 decimal points\n",
    "percent=round(data.isnull().sum().sum()/data.shape[0]*100,3) \n",
    "\n",
    "print('Feature:',Column,', ''Total:',total,', ''Percent:',percent)"
   ]
  },
  {
   "cell_type": "markdown",
   "id": "19a276b1",
   "metadata": {},
   "source": [
    "__Q7.__"
   ]
  },
  {
   "cell_type": "code",
   "execution_count": 65,
   "id": "134a3c65",
   "metadata": {},
   "outputs": [],
   "source": [
    "# checks the feature under fuel_unit with the highest value\n",
    "data.groupby(\"fuel_unit\")[\"fuel_unit\"].count\n",
    "\n",
    "#Fill the missing data from the fuel_unit with the mode's value\n",
    "data[[\"fuel_unit\"]]=data[['fuel_unit']].fillna(value='mcf')"
   ]
  },
  {
   "cell_type": "markdown",
   "id": "a5469c36",
   "metadata": {},
   "source": [
    "__Feature with missing values is from a Categorical header, The missing data can be filled/resolved using the Mode imputation.__"
   ]
  },
  {
   "cell_type": "markdown",
   "id": "0fabbfae",
   "metadata": {},
   "source": [
    "__Q3.__"
   ]
  },
  {
   "cell_type": "code",
   "execution_count": 51,
   "id": "f6f2fc93",
   "metadata": {
    "scrolled": true
   },
   "outputs": [
    {
     "data": {
      "text/plain": [
       "fuel_type_code_pudl\n",
       "gas          13.66\n",
       "other        18.25\n",
       "waste        19.52\n",
       "coal         67.42\n",
       "oil         168.88\n",
       "nuclear    4955.16\n",
       "Name: fuel_cost_per_unit_burned, dtype: float64"
      ]
     },
     "execution_count": 51,
     "metadata": {},
     "output_type": "execute_result"
    }
   ],
   "source": [
    "#checks the mean of a feature(fuel_type_code_pudl)\n",
    "round(data.groupby(\"fuel_type_code_pudl\")[\"fuel_cost_per_unit_burned\"].mean(),2).sort_values(ascending=True)"
   ]
  },
  {
   "cell_type": "markdown",
   "id": "b325f7b0",
   "metadata": {},
   "source": [
    "__Gas has the lowest mean value or the least average fuel cost per unit burned.__ "
   ]
  },
  {
   "cell_type": "markdown",
   "id": "09fa94da",
   "metadata": {},
   "source": [
    "__Q5.__ "
   ]
  },
  {
   "cell_type": "code",
   "execution_count": 38,
   "id": "b0d2a079",
   "metadata": {},
   "outputs": [
    {
     "data": {
      "text/plain": [
       "utility_id_ferc1                  0.61\n",
       "report_year                       0.01\n",
       "fuel_qty_burned                  15.85\n",
       "fuel_mmbtu_per_unit               4.14\n",
       "fuel_cost_per_unit_burned        19.79\n",
       "fuel_cost_per_unit_delivered    105.01\n",
       "fuel_cost_per_mmbtu             171.68\n",
       "dtype: float64"
      ]
     },
     "execution_count": 38,
     "metadata": {},
     "output_type": "execute_result"
    }
   ],
   "source": [
    "#Calculates the skewness of features\n",
    "round(data.skew(),2)"
   ]
  },
  {
   "cell_type": "code",
   "execution_count": 39,
   "id": "6b7818a8",
   "metadata": {},
   "outputs": [
    {
     "data": {
      "text/plain": [
       "utility_id_ferc1                    1.09\n",
       "report_year                        -1.15\n",
       "fuel_qty_burned                   651.37\n",
       "fuel_mmbtu_per_unit                55.60\n",
       "fuel_cost_per_unit_burned         485.26\n",
       "fuel_cost_per_unit_delivered    11765.05\n",
       "fuel_cost_per_mmbtu             29489.13\n",
       "dtype: float64"
      ]
     },
     "execution_count": 39,
     "metadata": {},
     "output_type": "execute_result"
    }
   ],
   "source": [
    "# Calculates the Kurtiosis of features\n",
    "round(data.kurtosis(),2)"
   ]
  },
  {
   "cell_type": "markdown",
   "id": "d762752c",
   "metadata": {},
   "source": [
    "__Skewness and Kurtiosis for fuel quantity burned are 15.85 and 651.37 respectively._"
   ]
  },
  {
   "cell_type": "markdown",
   "id": "cea2295b",
   "metadata": {},
   "source": [
    "__Q8.__ "
   ]
  },
  {
   "cell_type": "code",
   "execution_count": 42,
   "id": "e9032c8b",
   "metadata": {},
   "outputs": [
    {
     "data": {
      "text/plain": [
       "utility_id_ferc1               -0.037863\n",
       "fuel_qty_burned                -0.018535\n",
       "fuel_mmbtu_per_unit            -0.010034\n",
       "fuel_cost_per_mmbtu            -0.000437\n",
       "fuel_cost_per_unit_delivered    0.011007\n",
       "report_year                     0.013599\n",
       "fuel_cost_per_unit_burned       1.000000\n",
       "Name: fuel_cost_per_unit_burned, dtype: float64"
      ]
     },
     "execution_count": 42,
     "metadata": {},
     "output_type": "execute_result"
    }
   ],
   "source": [
    "#calculates correlation of features\n",
    "data.corr()['fuel_cost_per_unit_burned'].sort_values(ascending=True)"
   ]
  },
  {
   "cell_type": "markdown",
   "id": "99588c53",
   "metadata": {},
   "source": [
    "__Feature with Second and Third lowest Correlation values are fuel_qty_burned and fuel_mmbtu_per_unit.__"
   ]
  },
  {
   "cell_type": "markdown",
   "id": "d8a4d60e",
   "metadata": {},
   "source": [
    "__Q10__"
   ]
  },
  {
   "cell_type": "code",
   "execution_count": 41,
   "id": "3faf9d40",
   "metadata": {},
   "outputs": [
    {
     "data": {
      "text/plain": [
       "report_year\n",
       "1997    11140.197239\n",
       "1996     9196.705948\n",
       "2000      985.362877\n",
       "2009      652.694163\n",
       "2018      499.269966\n",
       "2015      326.535511\n",
       "1998      287.154420\n",
       "2014      192.737183\n",
       "2013      172.307591\n",
       "2004      139.524275\n",
       "2016      103.901761\n",
       "2010       91.862105\n",
       "1994       63.636060\n",
       "2012       60.994502\n",
       "2001       60.050396\n",
       "2011       59.774667\n",
       "2008       58.588197\n",
       "2003       55.663493\n",
       "2002       47.594361\n",
       "2017       46.196861\n",
       "2007       43.325023\n",
       "2005       41.438184\n",
       "2006       38.657484\n",
       "1995       32.735269\n",
       "1999       25.551627\n",
       "Name: fuel_cost_per_unit_delivered, dtype: float64"
      ]
     },
     "execution_count": 41,
     "metadata": {},
     "output_type": "execute_result"
    }
   ],
   "source": [
    "#calculates mean for fuel_cost_per_unit_delivered by report_year\n",
    "data.groupby(\"report_year\")['fuel_cost_per_unit_delivered'].mean().sort_values(ascending=False)"
   ]
  },
  {
   "cell_type": "markdown",
   "id": "2a32151b",
   "metadata": {},
   "source": [
    "__The report year with highest mean value for fuel unit per unit delivered is 1997.__ "
   ]
  },
  {
   "cell_type": "markdown",
   "id": "16f81499",
   "metadata": {},
   "source": [
    "__Q9.__ "
   ]
  },
  {
   "cell_type": "code",
   "execution_count": 47,
   "id": "b162872e",
   "metadata": {},
   "outputs": [
    {
     "name": "stdout",
     "output_type": "stream",
     "text": [
      "Percentage Change = -26 %\n"
     ]
    }
   ],
   "source": [
    "# Calculates the sum of the fuel unit burned for fuel type coal for 1998\n",
    "a=data.loc[(data['report_year']==1998) & (data['fuel_type_code_pudl']=='coal')]['fuel_cost_per_unit_burned'].sum()\n",
    "\n",
    "# Calculates the sum of the fuel unit burned for fuel type coal for 1994\n",
    "b=data.loc[(data['report_year']==1994) & (data['fuel_type_code_pudl']=='coal')]['fuel_cost_per_unit_burned'].sum()\n",
    "\n",
    "# Calculates and prints percentage change \n",
    "print(\"Percentage Change =\",round(((a-b)/a)*100),'%')"
   ]
  },
  {
   "cell_type": "markdown",
   "id": "4682cdf2",
   "metadata": {},
   "source": [
    "__Answer: None of the above. Percentage change= 26.0%__"
   ]
  },
  {
   "cell_type": "markdown",
   "id": "8687d64f",
   "metadata": {},
   "source": [
    "__Q1.__"
   ]
  },
  {
   "cell_type": "code",
   "execution_count": 58,
   "id": "32a7ee2d",
   "metadata": {},
   "outputs": [
    {
     "data": {
      "text/plain": [
       "[1, 2, 3, 4, 5, 6, 13, 21, 34]"
      ]
     },
     "execution_count": 58,
     "metadata": {},
     "output_type": "execute_result"
    }
   ],
   "source": [
    "A = [1,2,3,4,5,6]\n",
    "B = [13, 21, 34]\n",
    "A.extend(B)\n",
    "A"
   ]
  },
  {
   "cell_type": "markdown",
   "id": "b90b8ce7",
   "metadata": {},
   "source": [
    "__Answer: A.expend(B)__"
   ]
  },
  {
   "cell_type": "markdown",
   "id": "567de7fe",
   "metadata": {},
   "source": [
    "__Q2.__"
   ]
  },
  {
   "cell_type": "code",
   "execution_count": 60,
   "id": "f2e61bb4",
   "metadata": {},
   "outputs": [
    {
     "data": {
      "text/plain": [
       "array([[1., 0., 0.],\n",
       "       [0., 1., 0.],\n",
       "       [0., 0., 1.]])"
      ]
     },
     "execution_count": 60,
     "metadata": {},
     "output_type": "execute_result"
    }
   ],
   "source": [
    "np.identity(3)"
   ]
  },
  {
   "cell_type": "code",
   "execution_count": 61,
   "id": "e8452532",
   "metadata": {},
   "outputs": [
    {
     "data": {
      "text/plain": [
       "array([[1., 0., 0.],\n",
       "       [0., 1., 0.],\n",
       "       [0., 0., 1.]])"
      ]
     },
     "execution_count": 61,
     "metadata": {},
     "output_type": "execute_result"
    }
   ],
   "source": [
    "np.eye(3)"
   ]
  },
  {
   "cell_type": "markdown",
   "id": "a538cbb9",
   "metadata": {},
   "source": [
    "__np.identity(3) and np.eye(3) creates an identity matrics__"
   ]
  },
  {
   "cell_type": "markdown",
   "id": "377e8a7f",
   "metadata": {},
   "source": [
    "# End of Notebook."
   ]
  }
 ],
 "metadata": {
  "kernelspec": {
   "display_name": "Python 3",
   "language": "python",
   "name": "python3"
  },
  "language_info": {
   "codemirror_mode": {
    "name": "ipython",
    "version": 3
   },
   "file_extension": ".py",
   "mimetype": "text/x-python",
   "name": "python",
   "nbconvert_exporter": "python",
   "pygments_lexer": "ipython3",
   "version": "3.8.8"
  }
 },
 "nbformat": 4,
 "nbformat_minor": 5
}
